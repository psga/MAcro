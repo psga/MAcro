{
 "cells": [
  {
   "cell_type": "markdown",
   "metadata": {},
   "source": [
    "## El método de disparo - The Shooting Method\n",
    "### Métodos Numéricos 2022"
   ]
  },
  {
   "cell_type": "code",
   "execution_count": 1,
   "metadata": {
    "tags": []
   },
   "outputs": [],
   "source": [
    "import numpy as np\n",
    "import matplotlib.pyplot as plt\n",
    "from scipy.integrate import solve_ivp"
   ]
  },
  {
   "cell_type": "markdown",
   "metadata": {},
   "source": [
    "#### Método de tiro\n",
    "Este es un método por el cual ciertos sistemas de ecuaciones ordinarias se pueden resolver como problemas de frontera, es decir, dando valores iniciales para algunas variables y *valores finales * para otras. \n",
    "Un caso donde se puede hacer esto es cuando resolvemos problemas que provienen de ecuaciones de segundo grado, las cuales en la clasificación de ecuaciones en derivadas parciales serían denominadas *elípticas*."
   ]
  },
  {
   "cell_type": "markdown",
   "metadata": {},
   "source": [
    "Este es el caso cuando tenemos un problema para las ecuacioens de Newton:\n",
    "\n",
    "\\begin{equation}\n",
    "\\frac{d^2\\vec{y}}{dt^2} = f(t,\\vec{y},\\frac{d\\vec{y}}{dt}) \n",
    "\\end{equation}\n",
    "\n",
    "Donde queremos proponer el siguiente problema:\n",
    "\n",
    "*Dadas dos posiciones $x_i$ y $x_f$, y un intervalo temporal $(t_i,t_f)$, encuentre una velocidad $dx/dt(t_i)$ que $x(t_i)=x_i$\n",
    "y $x(t_f)= x_f$.* \n",
    "\n",
    "Veamos un caso simple que se puede tratar analíticamente.\n",
    "\\begin{equation}\n",
    "\\frac{d{x^2}}{dt^2} = p(t)\\frac{d{x}}{dt}+q(t)x+ r(t) \n",
    "\\end{equation}\n",
    "\n",
    "Suponiendo las condiciones donde se puede demostrar que la solución existe: sean *p(t)*, *q(t)* y *r(t)* contínuos en el intervalo $t \\in [t_i, t_f]$ que supondremos acotado y *q(t)*> 0.\n",
    "\n",
    "Luego sabemos que este problema tiene dos soluciones linealmente independietes, *u(t)* y *v(t)*, para nuestro análisis es conveniente elegir que sean tales que $u(t_i)= x_i$, $du/dt(t_i)= 0$ y $v(t_i)=0$, $dv/dt(t_i)= 1$.\n",
    "\n"
   ]
  },
  {
   "cell_type": "markdown",
   "metadata": {},
   "source": [
    "\n",
    "Luego, como el sistema es lineal, la suma de estas soluciones y la multiplicación de las mismas por constantes son también soluciones, siendo la solución general una combinación lineal de ellas de la forma:\n",
    "\n",
    "\\begin{equation}\n",
    "     x(t) = A_u u(t) + A_v v(t) \n",
    "\\end{equation}\n",
    "\n",
    "Luego la solución que estamos buscando está dada por las constantes\n",
    "\n",
    "\\begin{equation}\n",
    "                       A_u = 1 , A_v = \\frac{x_f-u(t_f)}{v(t_f)}\n",
    "\\end{equation}                      \n",
    "  \n",
    " El hecho de que $v(t_f) \\neq 0 $ sigue de la condición de que *q(t)* sea postiva.  \n",
    "  \n",
    "  \n",
    "\\begin{equation}\n",
    "\\frac{d{x}}{dt}  = A_v =  \\frac{x_f-u(t_f)}{v(t_f)}\n",
    "\\end{equation}\n"
   ]
  },
  {
   "cell_type": "markdown",
   "metadata": {
    "tags": []
   },
   "source": [
    "using Plots \n",
    "\"\"\"\n",
    "    RK4(f,y0,t0,h,p...)\n",
    "\n",
    "Hace un paso del método del metodo clásico de RK de orden 4: \n",
    "    f  : función que nos da la tangente como en (y,t)\n",
    "    y0 : y inicial\n",
    "    t0 : t inicial\n",
    "    h  : dt\n",
    "    p  : extra parameters\n",
    "\n",
    "# Examples\n",
    "```julia-repl\n",
    "julia> \n",
    "function f(y,t)\n",
    "    return -y + sin(2π*t)\n",
    "end\n",
    "h= 0.1\n",
    "RK4(f,1,0,h)\n",
    "0.9342307485981525\n",
    "```\n",
    "\"\"\"\n"
   ]
  },
  {
   "cell_type": "code",
   "execution_count": 3,
   "metadata": {
    "tags": []
   },
   "outputs": [],
   "source": [
    "def funcRK4(f,y0,t0,h):\n",
    "    np.k1 = h*f(y0,t0)\n",
    "    np.k2 = h*f(y0 + k1/2,t0 + h/2)\n",
    "    np.k3 = h*f(y0 + k2/2,t0 + h/2)\n",
    "    np.k4 = h*f(y0 + k3,t0 + h)\n",
    "    return y0 + (k1 + 2*k2 + 2*k3 + np.k4)/6\n",
    "\n",
    "def funcRK4p(f,y0,t0,h,p):\n",
    "    np.k1 = h*f(y0,t0,p)\n",
    "    np.k2 = h*f(y0 + k1/2,t0 + h/2,p)\n",
    "    np.k3 = h*f(y0 + k2/2,t0 + h/2,p)\n",
    "    np.k4 = h*f(y0 + k3,t0 + h,p)\n",
    "    return y0 + (k1 + 2*k2 + 2*k3 + np.k4)/6\n",
    "\n"
   ]
  },
  {
   "cell_type": "markdown",
   "metadata": {
    "tags": []
   },
   "source": [
    "\"\"\" def funcODEmultidim(Method,f,y0,(a,b),N):\n",
    "    h = (b-a)/(N-1)\n",
    "    t = zeros(N)\n",
    "    w = zeros((length(y0),N))\n",
    "    t[1] = a\n",
    "    w[:,1] = y0\n",
    "    for i in 2:N\n",
    "        t[i] = t[i-1] + h\n",
    "        w[:,i] = Method(f,w[:,i-1],t[i-1],h)         \n",
    "\n",
    "    return (t[:],w[:,:])\n",
    "\n",
    "def funcODEmultidimp(Method,f,y0,(a,b),N,p):\n",
    "    h = (b-a)/(N-1)\n",
    "    t = zeros(N)\n",
    "    w = zeros((length(y0),N))\n",
    "    t[1] = a\n",
    "    w[:,1] = y0\n",
    "    for i in 2:N\n",
    "        t[i] = t[i-1] + h\n",
    "        w[:,i] = Method(f,w[:,i-1],t[i-1],h,p)         \n",
    "    \n",
    "    return (t[:],w[:,:]) \n",
    "    \"\"\""
   ]
  },
  {
   "cell_type": "code",
   "execution_count": 5,
   "metadata": {
    "tags": []
   },
   "outputs": [],
   "source": [
    "def funcODEmultidim(Method,f,y0,a,b,N):\n",
    "    h = (b-a)/(N-1)\n",
    "    t = zeros(N)\n",
    "    w = zeros((length(y0),N))\n",
    "    t[1] = a\n",
    "    w[:,1] = y0\n",
    "    for i in 2:N\n",
    "    t[i] = t[i-1] + h\n",
    "    w[:,i] = Method(f,w[:,i-1],t[i-1],h)         \n",
    "   \n",
    "    return (t[:],w[:,:])\n",
    "\n",
    "def funcODEmultidimp(Method,f,y0,a,b,N,p):\n",
    "    h = (b-a)/(N-1)\n",
    "    t = zeros(N)\n",
    "    w = zeros((length(y0),N))\n",
    "    t[1] = a\n",
    "    w[:,1] = y0\n",
    "    for i in 2:N\n",
    "    t[i] = t[i-1] + h\n",
    "    w[:,i] = Method(f,w[:,i-1],t[i-1],h,p)         \n",
    "   \n",
    "    return (t[:],w[:,:])\n"
   ]
  },
  {
   "cell_type": "markdown",
   "metadata": {},
   "source": [
    "### Ejemplo \n",
    "\n",
    "Veamos un ejemplo:\n",
    "\n",
    "Elegimos $p(t) = -1$, $q(t) = 1$, $r(t) = sin(2\\pi t)$. Luego el sistema queda de la forma:\n",
    "\n",
    "$$ \n",
    "\\frac{dy^1}{dt} = y^2, \\;\\;\\;\\;\\;\\;\\; \\frac{dy^2}{dt} = - y^2 + y^1 + sin(2 \\pi  t)\n",
    "$$\n",
    "\n",
    "Lo queremos resolver en el intervalo $(0,4)$ y con condiciones de contorno $x_i = 0$, $x_f = 2$."
   ]
  },
  {
   "cell_type": "code",
   "execution_count": 6,
   "metadata": {
    "tags": []
   },
   "outputs": [
    {
     "name": "stdout",
     "output_type": "stream",
     "text": [
      "[2 3]\n"
     ]
    }
   ],
   "source": [
    "intervalo = (0.0,4.0)\n",
    "N = 100\n",
    "\n",
    "def f(y,t):\n",
    "    return [y[2], -y[2] + y[1] + sin(2*pi*t)]\n",
    "\n",
    "\n",
    "f0= np.array([2,3])\n",
    "print(f0)\n"
   ]
  },
  {
   "cell_type": "code",
   "execution_count": 7,
   "metadata": {
    "tags": []
   },
   "outputs": [
    {
     "ename": "NameError",
     "evalue": "name 'zeros' is not defined",
     "output_type": "error",
     "traceback": [
      "\u001b[0;31m---------------------------------------------------------------------------\u001b[0m",
      "\u001b[0;31mNameError\u001b[0m                                 Traceback (most recent call last)",
      "Cell \u001b[0;32mIn[7], line 5\u001b[0m\n\u001b[1;32m      2\u001b[0m x_i \u001b[38;5;241m=\u001b[39m \u001b[38;5;241m0.0\u001b[39m\n\u001b[1;32m      3\u001b[0m y0\u001b[38;5;241m=\u001b[39mnp\u001b[38;5;241m.\u001b[39marray([x_i, \u001b[38;5;241m0.0\u001b[39m])\n\u001b[0;32m----> 5\u001b[0m \u001b[43mfuncODEmultidim\u001b[49m\u001b[43m(\u001b[49m\u001b[43mfuncRK4\u001b[49m\u001b[43m,\u001b[49m\u001b[43mf\u001b[49m\u001b[43m,\u001b[49m\u001b[43mx_i\u001b[49m\u001b[43m,\u001b[49m\u001b[38;5;241;43m0.0\u001b[39;49m\u001b[43m,\u001b[49m\u001b[38;5;241;43m4.0\u001b[39;49m\u001b[43m,\u001b[49m\u001b[43mN\u001b[49m\u001b[43m)\u001b[49m\n",
      "Cell \u001b[0;32mIn[5], line 3\u001b[0m, in \u001b[0;36mfuncODEmultidim\u001b[0;34m(Method, f, y0, a, b, N)\u001b[0m\n\u001b[1;32m      1\u001b[0m \u001b[38;5;28;01mdef\u001b[39;00m \u001b[38;5;21mfuncODEmultidim\u001b[39m(Method,f,y0,a,b,N):\n\u001b[1;32m      2\u001b[0m     h \u001b[38;5;241m=\u001b[39m (b\u001b[38;5;241m-\u001b[39ma)\u001b[38;5;241m/\u001b[39m(N\u001b[38;5;241m-\u001b[39m\u001b[38;5;241m1\u001b[39m)\n\u001b[0;32m----> 3\u001b[0m     t \u001b[38;5;241m=\u001b[39m \u001b[43mzeros\u001b[49m(N)\n\u001b[1;32m      4\u001b[0m     w \u001b[38;5;241m=\u001b[39m zeros((length(y0),N))\n\u001b[1;32m      5\u001b[0m     t[\u001b[38;5;241m1\u001b[39m] \u001b[38;5;241m=\u001b[39m a\n",
      "\u001b[0;31mNameError\u001b[0m: name 'zeros' is not defined"
     ]
    }
   ],
   "source": [
    "# primera solución \n",
    "x_i = 0.0\n",
    "y0=np.array([x_i, 0.0])\n",
    "\n",
    "funcODEmultidim(funcRK4,f,x_i,0.0,4.0,N)"
   ]
  },
  {
   "cell_type": "code",
   "execution_count": 87,
   "metadata": {},
   "outputs": [
    {
     "ename": "TypeError",
     "evalue": "funcODEmultidim() missing 1 required positional argument: 'N'",
     "output_type": "error",
     "traceback": [
      "\u001b[0;31m---------------------------------------------------------------------------\u001b[0m",
      "\u001b[0;31mTypeError\u001b[0m                                 Traceback (most recent call last)",
      "\u001b[0;32m<ipython-input-87-b381c1366296>\u001b[0m in \u001b[0;36m<module>\u001b[0;34m\u001b[0m\n\u001b[1;32m      3\u001b[0m \u001b[0my0\u001b[0m\u001b[0;34m=\u001b[0m\u001b[0mnp\u001b[0m\u001b[0;34m.\u001b[0m\u001b[0marray\u001b[0m\u001b[0;34m(\u001b[0m\u001b[0;34m[\u001b[0m\u001b[0;36m0.0\u001b[0m\u001b[0;34m,\u001b[0m \u001b[0;36m1.0\u001b[0m\u001b[0;34m]\u001b[0m\u001b[0;34m)\u001b[0m\u001b[0;34m\u001b[0m\u001b[0;34m\u001b[0m\u001b[0m\n\u001b[1;32m      4\u001b[0m \u001b[0;34m\u001b[0m\u001b[0m\n\u001b[0;32m----> 5\u001b[0;31m \u001b[0mfuncODEmultidim\u001b[0m\u001b[0;34m(\u001b[0m\u001b[0mfuncRK4\u001b[0m\u001b[0;34m,\u001b[0m\u001b[0mf\u001b[0m\u001b[0;34m,\u001b[0m\u001b[0my0\u001b[0m\u001b[0;34m,\u001b[0m\u001b[0mintervalo\u001b[0m\u001b[0;34m,\u001b[0m\u001b[0mN\u001b[0m\u001b[0;34m)\u001b[0m\u001b[0;34m\u001b[0m\u001b[0;34m\u001b[0m\u001b[0m\n\u001b[0m",
      "\u001b[0;31mTypeError\u001b[0m: funcODEmultidim() missing 1 required positional argument: 'N'"
     ]
    }
   ],
   "source": [
    "# segunda solución \n",
    "\n",
    "y0=np.array([0.0, 1.0])\n",
    "\n",
    "funcODEmultidim(funcRK4,f,y0,intervalo,N)"
   ]
  },
  {
   "cell_type": "code",
   "execution_count": 46,
   "metadata": {},
   "outputs": [
    {
     "ename": "SyntaxError",
     "evalue": "invalid syntax (<ipython-input-46-a2f15bb212bb>, line 2)",
     "output_type": "error",
     "traceback": [
      "\u001b[0;36m  File \u001b[0;32m\"<ipython-input-46-a2f15bb212bb>\"\u001b[0;36m, line \u001b[0;32m2\u001b[0m\n\u001b[0;31m    plot!(p,t[:],u[1,:], label=\"u\")\u001b[0m\n\u001b[0m        ^\u001b[0m\n\u001b[0;31mSyntaxError\u001b[0m\u001b[0;31m:\u001b[0m invalid syntax\n"
     ]
    }
   ],
   "source": [
    "p = plot(title=\"soluciones\")\n",
    "plot!(p,t[:],u[1,:], label=\"u\")\n",
    "#plot!(p,t,u[2,:], label=\"udot\")\n",
    "plot!(p,t[:],v[1,:], label=\"v\")\n",
    "#plot!(p,t,v[2,:], label=\"vdot\")\n",
    "p"
   ]
  },
  {
   "cell_type": "code",
   "execution_count": null,
   "metadata": {},
   "outputs": [],
   "source": [
    "x_f=2\n",
    "Aᵥ = (x_f - u[1,end])/v[1,end]\n",
    "\n",
    "plot(t,u[1,:] .+ Aᵥ*v[1,:], legend=:topleft, label=\"solución completa\")"
   ]
  },
  {
   "cell_type": "markdown",
   "metadata": {},
   "source": [
    "### Tarea:\n",
    "\n",
    "Vea que puede tomar valores negativos de $q(t)$ y todavía obtener soluciones, trate de ver que sucede en esos casos probando distintas formas para $q(t)$ negativas y sin la fuente. Ayuda: trate de hacer que la solución $v$ se haga cero en $t_f$. "
   ]
  },
  {
   "cell_type": "markdown",
   "metadata": {},
   "source": [
    "### Caso general: \n",
    "\n",
    "El caso lineal considerado anterirmente es simple pues al poder sumar soluciones la respuesta es simple. Que sucede en el caso no-lineal general. Pues que tendremos que emplear métodos más sofisticados para obtener las soluciones. Iremos directamente en busca del valor de la derivada primera en $t_i$ que hace que la condición de contorno en $t_f$ se satisfaga.\n",
    "\n",
    "Es decir, encontrando una solución con condiciones iniciales $(x(t_i) = x_i, \\frac{dx}{dt}|_{t_i} = v)$, plantearemos la función:\n",
    "\n",
    "$$\n",
    "F(v) := x(t_f) - x_f,\n",
    "$$\n",
    "y buscaremos un cero para la misma, por alguno de los métodos que nos permiten hacer esto, por ejemplo bisección, secante, regula-falsi o Newton.\n",
    "\n",
    "A continuación veremos los de bisección y Newton.\n"
   ]
  },
  {
   "cell_type": "markdown",
   "metadata": {},
   "source": [
    "### Bisección:\n",
    "\n",
    "Tendremos que iniciar el algoritmo encontrando dos valores de $v$ tales que $F(v_1)*F(v_2) < 0$ pero luego \n",
    "el algoritmo nos conducirá lentamente a la solución. Notemos que calcular $F(v)$ para estos problemas es caro en término de cómputos, para cada valor de $v$ debemos hacer una integración numérica.\n",
    "\n",
    "En este caso usaremos como ejemplo:  \n",
    "\n",
    "3. $1\\leq t\\leq 2$, comience con $h=0.05$\n",
    "$$\n",
    "\\ddot{x}\\,=\\,\\frac{(t\\,\\dot{x} )^2\\,-9 x^2+4 t^6}{t^5},\\;\\;\\;x(1)=0\\;,\\;\\;x(2)=\\ln{(256)} \\,.\n",
    "$$\n",
    "Solución exacta $x=t^3\\,\\ln{(t})$."
   ]
  },
  {
   "cell_type": "code",
   "execution_count": 88,
   "metadata": {},
   "outputs": [
    {
     "ename": "SyntaxError",
     "evalue": "invalid syntax (<ipython-input-88-f784220cb2c3>, line 1)",
     "output_type": "error",
     "traceback": [
      "\u001b[0;36m  File \u001b[0;32m\"<ipython-input-88-f784220cb2c3>\"\u001b[0;36m, line \u001b[0;32m1\u001b[0m\n\u001b[0;31m    def g(y,t)\u001b[0m\n\u001b[0m              ^\u001b[0m\n\u001b[0;31mSyntaxError\u001b[0m\u001b[0;31m:\u001b[0m invalid syntax\n"
     ]
    }
   ],
   "source": [
    "def g(y,t)\n",
    "    return [y[2]; ((t*y[2])**2 - (3*y[1])**2 + 4*t**6)/t**5]:\n",
    "\n",
    "\n",
    "def F(v,p)\n",
    "    t_i, t_f, x_i, x_f, N, f = p\n",
    "    intervalo = (t_i, t_f)\n",
    "    y0=[x_i; v]\n",
    "    (t,u) = ODEmultidim(RK4,f,y0,intervalo,N);\n",
    "    return u[1,end] - x_f\n"
   ]
  },
  {
   "cell_type": "code",
   "execution_count": 67,
   "metadata": {},
   "outputs": [
    {
     "ename": "SyntaxError",
     "evalue": "invalid syntax (<ipython-input-67-01e8f81f3195>, line 4)",
     "output_type": "error",
     "traceback": [
      "\u001b[0;36m  File \u001b[0;32m\"<ipython-input-67-01e8f81f3195>\"\u001b[0;36m, line \u001b[0;32m4\u001b[0m\n\u001b[0;31m    if fa*fx > 0; error(\"no hay raíz en [a,b]\") end\u001b[0m\n\u001b[0m                ^\u001b[0m\n\u001b[0;31mSyntaxError\u001b[0m\u001b[0;31m:\u001b[0m invalid syntax\n"
     ]
    }
   ],
   "source": [
    "def biseccion(f,a,b,epsx=1e-5,epsf=1e-5,n=100,p):\n",
    "    fa = f(a,p)\n",
    "    fx = f(b,p)\n",
    "    if fa*fx > 0; error(\"no hay raíz en [a,b]\") end\n",
    "    for i in 1:n\n",
    "        x = 0.5*(a+b)\n",
    "        fx = f(x,p)\n",
    "        if fa*fx >= 0\n",
    "            a = x  # La raiz esta en [x,b], i.e. la mitad derecha de [a,b]\n",
    "            fa = fx\n",
    "        else\n",
    "            b = x  # La raiz esta en [a,x), i.e. la mitad izquierda de [a,b].\n",
    "        end        \n",
    "        R = abs(b-a)/abs(b+a)\n",
    "        F = abs(fx)\n",
    "        if R < epsx && F < epsf\n",
    "            return x,fx,R,F,i\n",
    "        end\n",
    "    end\n",
    "    error(\"convergencia fallida\")\n"
   ]
  },
  {
   "cell_type": "code",
   "execution_count": 69,
   "metadata": {},
   "outputs": [
    {
     "ename": "NameError",
     "evalue": "name 'log' is not defined",
     "output_type": "error",
     "traceback": [
      "\u001b[0;31m---------------------------------------------------------------------------\u001b[0m",
      "\u001b[0;31mNameError\u001b[0m                                 Traceback (most recent call last)",
      "\u001b[0;32m<ipython-input-69-65bb82d30c3a>\u001b[0m in \u001b[0;36m<module>\u001b[0;34m\u001b[0m\n\u001b[1;32m      2\u001b[0m \u001b[0mt_f\u001b[0m \u001b[0;34m=\u001b[0m \u001b[0;36m2\u001b[0m\u001b[0;34m\u001b[0m\u001b[0;34m\u001b[0m\u001b[0m\n\u001b[1;32m      3\u001b[0m \u001b[0mx_i\u001b[0m \u001b[0;34m=\u001b[0m \u001b[0;36m0.0\u001b[0m\u001b[0;34m\u001b[0m\u001b[0;34m\u001b[0m\u001b[0m\n\u001b[0;32m----> 4\u001b[0;31m \u001b[0mx_f\u001b[0m \u001b[0;34m=\u001b[0m \u001b[0mlog\u001b[0m\u001b[0;34m(\u001b[0m\u001b[0;36m256\u001b[0m\u001b[0;34m)\u001b[0m\u001b[0;34m\u001b[0m\u001b[0;34m\u001b[0m\u001b[0m\n\u001b[0m\u001b[1;32m      5\u001b[0m \u001b[0mN\u001b[0m \u001b[0;34m=\u001b[0m \u001b[0;36m1000\u001b[0m\u001b[0;34m\u001b[0m\u001b[0;34m\u001b[0m\u001b[0m\n\u001b[1;32m      6\u001b[0m \u001b[0mp\u001b[0m \u001b[0;34m=\u001b[0m  \u001b[0mt_i\u001b[0m\u001b[0;34m,\u001b[0m \u001b[0mt_f\u001b[0m\u001b[0;34m,\u001b[0m \u001b[0mx_i\u001b[0m\u001b[0;34m,\u001b[0m \u001b[0mx_f\u001b[0m\u001b[0;34m,\u001b[0m \u001b[0mN\u001b[0m\u001b[0;34m,\u001b[0m \u001b[0mg\u001b[0m\u001b[0;34m\u001b[0m\u001b[0;34m\u001b[0m\u001b[0m\n",
      "\u001b[0;31mNameError\u001b[0m: name 'log' is not defined"
     ]
    }
   ],
   "source": [
    "t_i = 1\n",
    "t_f = 2\n",
    "x_i = 0.0\n",
    "x_f = log(256)\n",
    "N = 1000\n",
    "p =  t_i, t_f, x_i, x_f, N, g\n",
    "\n",
    "F(1.0,p)"
   ]
  },
  {
   "cell_type": "code",
   "execution_count": 61,
   "metadata": {},
   "outputs": [
    {
     "ename": "NameError",
     "evalue": "name 'F' is not defined",
     "output_type": "error",
     "traceback": [
      "\u001b[0;31m---------------------------------------------------------------------------\u001b[0m",
      "\u001b[0;31mNameError\u001b[0m                                 Traceback (most recent call last)",
      "\u001b[0;32m<ipython-input-61-2437c621823d>\u001b[0m in \u001b[0;36m<module>\u001b[0;34m\u001b[0m\n\u001b[0;32m----> 1\u001b[0;31m \u001b[0mF\u001b[0m\u001b[0;34m(\u001b[0m\u001b[0;36m2.0\u001b[0m\u001b[0;34m,\u001b[0m\u001b[0mp\u001b[0m\u001b[0;34m)\u001b[0m\u001b[0;34m\u001b[0m\u001b[0;34m\u001b[0m\u001b[0m\n\u001b[0m",
      "\u001b[0;31mNameError\u001b[0m: name 'F' is not defined"
     ]
    }
   ],
   "source": [
    "F(2.0,p)"
   ]
  },
  {
   "cell_type": "code",
   "execution_count": 62,
   "metadata": {},
   "outputs": [
    {
     "ename": "SyntaxError",
     "evalue": "invalid syntax (<ipython-input-62-07af8cc9d3a6>, line 3)",
     "output_type": "error",
     "traceback": [
      "\u001b[0;36m  File \u001b[0;32m\"<ipython-input-62-07af8cc9d3a6>\"\u001b[0;36m, line \u001b[0;32m3\u001b[0m\n\u001b[0;31m    biseccion(F,a,b;epsx=1e-5,epsf=1e-5,n=100,p)\u001b[0m\n\u001b[0m                   ^\u001b[0m\n\u001b[0;31mSyntaxError\u001b[0m\u001b[0;31m:\u001b[0m invalid syntax\n"
     ]
    }
   ],
   "source": [
    "a = 1.0\n",
    "b = 2.0\n",
    "biseccion(F,a,b;epsx=1e-5,epsf=1e-5,n=100,p)"
   ]
  },
  {
   "cell_type": "code",
   "execution_count": 63,
   "metadata": {},
   "outputs": [
    {
     "ename": "NameError",
     "evalue": "name 'ODEmultidim' is not defined",
     "output_type": "error",
     "traceback": [
      "\u001b[0;31m---------------------------------------------------------------------------\u001b[0m",
      "\u001b[0;31mNameError\u001b[0m                                 Traceback (most recent call last)",
      "\u001b[0;32m<ipython-input-63-35380ede3d39>\u001b[0m in \u001b[0;36m<module>\u001b[0;34m\u001b[0m\n\u001b[1;32m      2\u001b[0m \u001b[0mintervalo\u001b[0m \u001b[0;34m=\u001b[0m \u001b[0;34m(\u001b[0m\u001b[0;36m1.0\u001b[0m\u001b[0;34m,\u001b[0m\u001b[0;36m2.0\u001b[0m\u001b[0;34m)\u001b[0m\u001b[0;34m\u001b[0m\u001b[0;34m\u001b[0m\u001b[0m\n\u001b[1;32m      3\u001b[0m \u001b[0mN\u001b[0m \u001b[0;34m=\u001b[0m \u001b[0;36m1000\u001b[0m\u001b[0;34m\u001b[0m\u001b[0;34m\u001b[0m\u001b[0m\n\u001b[0;32m----> 4\u001b[0;31m \u001b[0;34m(\u001b[0m\u001b[0mt\u001b[0m\u001b[0;34m,\u001b[0m\u001b[0mu\u001b[0m\u001b[0;34m)\u001b[0m \u001b[0;34m=\u001b[0m \u001b[0mODEmultidim\u001b[0m\u001b[0;34m(\u001b[0m\u001b[0mRK4\u001b[0m\u001b[0;34m,\u001b[0m\u001b[0mg\u001b[0m\u001b[0;34m,\u001b[0m\u001b[0my0\u001b[0m\u001b[0;34m,\u001b[0m\u001b[0mintervalo\u001b[0m\u001b[0;34m,\u001b[0m\u001b[0mN\u001b[0m\u001b[0;34m)\u001b[0m\u001b[0;34m;\u001b[0m\u001b[0;34m\u001b[0m\u001b[0;34m\u001b[0m\u001b[0m\n\u001b[0m",
      "\u001b[0;31mNameError\u001b[0m: name 'ODEmultidim' is not defined"
     ]
    }
   ],
   "source": [
    "y0 = [0.0, 1.0]\n",
    "intervalo = (1.0,2.0)\n",
    "N = 1000\n",
    "(t,u) = ODEmultidim(RK4,g,y0,intervalo,N);"
   ]
  },
  {
   "cell_type": "code",
   "execution_count": 64,
   "metadata": {},
   "outputs": [
    {
     "ename": "SyntaxError",
     "evalue": "invalid syntax (<ipython-input-64-342d124eda52>, line 2)",
     "output_type": "error",
     "traceback": [
      "\u001b[0;36m  File \u001b[0;32m\"<ipython-input-64-342d124eda52>\"\u001b[0;36m, line \u001b[0;32m2\u001b[0m\n\u001b[0;31m    scatter(t[1:50:end],u[1,1:50:end],ms=4,label=\"aproximada\", legend=:topleft)\u001b[0m\n\u001b[0m                                                                      ^\u001b[0m\n\u001b[0;31mSyntaxError\u001b[0m\u001b[0;31m:\u001b[0m invalid syntax\n"
     ]
    }
   ],
   "source": [
    "y(t) = t^3*log(t)\n",
    "scatter(t[1:50:end],u[1,1:50:end],ms=4,label=\"aproximada\", legend=:topleft)\n",
    "plot!(t,y.(t), label=\"exacta\")"
   ]
  },
  {
   "cell_type": "markdown",
   "metadata": {},
   "source": [
    "### Método de Newton-Raphson\n",
    "\n",
    "Ahora veremos como hacer este problema de forma más eficiente. Note que por bisección debimos hacer 19 iteraciones, o sea un total de 20 integraciones de nuestra ecuación.\n",
    "\n",
    "Recordemos que la iteración de Newton-Raphson para encontrar una raíz de un función diferenciable $f(x)$ está dada por,\n",
    "\n",
    "$$ \n",
    "x_{n+1} = x_n - \\frac{f(x_n)}{f'(x_n)} \\;\\;\\;\\;\\;\\;\\; f'= \\frac{df}{dx}\n",
    "$$\n",
    "\n",
    "Por lo tanto debemos encontrar la derivada primera de la función $F(v) = x(t_f) - x_f$.\n",
    "\n",
    "En esta función la dependencia de $v$ viene implícita al calcular $x(t_f)$ con condición inicial \n",
    "$(x(t_i)=x_i, \\frac{dx}{dt}|_{t_i} = v)$. Es decir debemos ver como depende $x(t_f)$ con respecto al dato inicial. Para ello pensemos en calcular una solución $y(t)$ con dato inicial $(x(t_i)=x_i, \\frac{dx}{dt}|_{t_i} = v)$ y otra, $y_p(t)$ con dato inicial $(x(t_i)=x_i, \\frac{dx}{dt}|_{t_i} = v + \\delta v)$. Luego, la derivada vendrá dada por,\n",
    "\n",
    "$$\n",
    "F'(v) = \\frac{x_p(t_f) - x(t_f)}{\\delta v}\n",
    "$$\n",
    "\n",
    "Y por lo tanto necesitamos ver cómo varía esta diferencia a primer orden.\n",
    "Pero notemos que $\\delta y(t) := y_p(t) - y(t)$ satisface a primer orden la siguiente ecuación:\n",
    "\n",
    "$$\n",
    "\\frac{d\\delta y(t)}{dt} = f(y_p(t),t) - f(y(t)) \\approx \\frac{\\partial f}{\\partial y} \\; \\delta y \n",
    "$$\n",
    "Es decir, para encontrar la derivada de $F$ necesitamos resolver una ecuación lineal en $\\delta y$ con condiciones iniciales, $(x(t_i)=0, \\frac{dx}{dt}|_{t_i} = \\delta v)$, como es una ecuación lineal, y luego debemos dividir por $\\delta v$, simplemente dividimos las condiciones iniciales por $\\delta v$ y resolvemos este problema alternativo con condiciones iniciales, $(x(t_i)=0, \\frac{dx}{dt}|_{t_i} = 1)$.\n",
    "\n",
    "Veamos ahora en detalle como es este sistema. Notemos que la ecuación es un sistema, o sea que $y(t)$ tiene dos índices, $y(t) = (y^1(t),y^2(t))$ lo mismo sucede con $f$, por lo tanto lo que debemos calcular es el Jacobiano de la transformación:\n",
    "\n",
    "$$\n",
    "J^i{}_j = \\frac{\\partial f^i}{\\partial y^j} \n",
    "        = \\left( \n",
    "            \\begin{array}{cc}\n",
    "            \\frac{\\partial f^1}{\\partial y^1} & \\frac{\\partial f^1}{\\partial y^2} \\\\\n",
    "            \\frac{\\partial f^2}{\\partial y^1} & \\frac{\\partial f^2}{\\partial y^2}\n",
    "            \\end{array}\n",
    "        \\right)\n",
    "$$\n",
    "\n",
    "Quedando el sistema linealizado (notemos que estas derivadas dependen de la solución del problema, $y(t)$), \n",
    "\n",
    "$$\n",
    "\\frac{d}{dt}\n",
    "    \\left(\n",
    "    \\begin{array}{c}\n",
    "    y^1 \\\\\n",
    "    y^2\n",
    "    \\end{array}\n",
    "    \\right)\n",
    "        = \\left( \n",
    "            \\begin{array}{cc}\n",
    "            \\frac{\\partial f^1}{\\partial y^1} & \\frac{\\partial f^1}{\\partial y^2} \\\\\n",
    "            \\frac{\\partial f^2}{\\partial y^1} & \\frac{\\partial f^2}{\\partial y^2}\n",
    "            \\end{array}\n",
    "        \\right)\n",
    "        \\left(\n",
    "    \\begin{array}{c}\n",
    "    y^1 \\\\\n",
    "    y^2\n",
    "    \\end{array}\n",
    "    \\right)\n",
    "$$\n",
    "\n",
    "En la práctica este sistema lineal se adiciona al sistema no-lineal y se resuelve como un sistema aumentado."
   ]
  },
  {
   "cell_type": "markdown",
   "metadata": {},
   "source": [
    "### Ejemplo: \n",
    "\n",
    "Veamos el sistema anterior pero con el método de Newton-Raphson. Recordando que,\n",
    "\n",
    "$$\n",
    "f(y) = (f^1, f^2) = (y^2, \\frac{(ty^2)^2 - (3y^2)^2 + 4t^6}{t^5})\n",
    "$$   \n",
    "\n",
    "Tenemos que,\n",
    "$$\n",
    "\\left( \n",
    "            \\begin{array}{cc}\n",
    "            \\frac{\\partial f^1}{\\partial y^1} & \\frac{\\partial f^1}{\\partial y^2} \\\\\n",
    "            \\frac{\\partial f^2}{\\partial y^1} & \\frac{\\partial f^2}{\\partial y^2}\n",
    "            \\end{array}\n",
    "\\right) \n",
    "= \n",
    "\\left( \n",
    "            \\begin{array}{cc}\n",
    "            0  & 1 \\\\\n",
    "            \\frac{-18y^1}{t^5} & \\frac{2y^2}{t^3}\n",
    "            \\end{array}\n",
    "\\right) \n",
    "$$\n",
    "Resultando en el siguiente sistema ampliado: \n",
    "\n",
    "$$ \n",
    "\\frac{d}{dt}\n",
    "    \\left(\n",
    "    \\begin{array}{c}\n",
    "    y^1 \\\\\n",
    "    y^2 \\\\\n",
    "    y^3 \\\\\n",
    "    y^4 \\\\\n",
    "    \\end{array}\n",
    "    \\right)\n",
    "    = \n",
    "    \\left(\n",
    "    \\begin{array}{c}\n",
    "    y^2 \\\\\n",
    "    (y^2, \\frac{(ty^2)^2 - (3y^2)^2 + 4t^6}{t^5}) \\\\\n",
    "    y^4 \\\\\n",
    "    \\frac{-6y^1}{t^5} * y^3 + \\frac{2y^2}{t^3} * y^4 \\\\\n",
    "    \\end{array}\n",
    "    \\right)\n",
    "    \\;\\;\\;\\;\\;\\;\\;\\; y^3 = \\delta y^1, \\;\\; y^4 = \\delta y^2\n",
    "$$\n"
   ]
  },
  {
   "cell_type": "code",
   "execution_count": null,
   "metadata": {},
   "outputs": [],
   "source": []
  },
  {
   "cell_type": "code",
   "execution_count": null,
   "metadata": {},
   "outputs": [],
   "source": []
  }
 ],
 "metadata": {
  "kernelspec": {
   "display_name": "Python 3 (ipykernel)",
   "language": "python",
   "name": "python3"
  },
  "language_info": {
   "codemirror_mode": {
    "name": "ipython",
    "version": 3
   },
   "file_extension": ".py",
   "mimetype": "text/x-python",
   "name": "python",
   "nbconvert_exporter": "python",
   "pygments_lexer": "ipython3",
   "version": "3.8.10"
  }
 },
 "nbformat": 4,
 "nbformat_minor": 4
}
